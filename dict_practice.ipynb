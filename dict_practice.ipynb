{
 "cells": [
  {
   "cell_type": "markdown",
   "id": "bf6fc079-58ea-43c3-b193-b42ffa045f06",
   "metadata": {},
   "source": [
    "# Dictionary Practice"
   ]
  },
  {
   "cell_type": "markdown",
   "id": "36f13515-3cf7-4410-8114-66b52369ce9c",
   "metadata": {},
   "source": [
    "1.Define a dictionary for a library system with the book titles as keys and available copies as values"
   ]
  },
  {
   "cell_type": "code",
   "execution_count": 10,
   "id": "15fd58da-a028-4e3a-b30f-24b6e2e8e276",
   "metadata": {},
   "outputs": [],
   "source": [
    "library ={'English': 2, 'History': 4, 'Python': 5, 'Hindi': 1, 'Marathi': 2}"
   ]
  },
  {
   "cell_type": "code",
   "execution_count": 11,
   "id": "561a713f-4beb-4df1-979c-d1700733424c",
   "metadata": {},
   "outputs": [
    {
     "data": {
      "text/plain": [
       "{'English': 2, 'History': 4, 'Python': 5, 'Hindi': 1, 'Marathi': 2}"
      ]
     },
     "execution_count": 11,
     "metadata": {},
     "output_type": "execute_result"
    }
   ],
   "source": [
    "library"
   ]
  },
  {
   "cell_type": "code",
   "execution_count": 15,
   "id": "4ba3acab-e072-4ee8-8996-3478bbddd616",
   "metadata": {},
   "outputs": [
    {
     "data": {
      "text/plain": [
       "dict_keys(['English', 'History', 'Python', 'Hindi', 'Marathi'])"
      ]
     },
     "execution_count": 15,
     "metadata": {},
     "output_type": "execute_result"
    }
   ],
   "source": [
    "library.keys()"
   ]
  },
  {
   "cell_type": "code",
   "execution_count": 16,
   "id": "dd6c24f1-958a-437d-b7fc-055076b01516",
   "metadata": {},
   "outputs": [
    {
     "data": {
      "text/plain": [
       "dict_values([2, 4, 5, 1, 2])"
      ]
     },
     "execution_count": 16,
     "metadata": {},
     "output_type": "execute_result"
    }
   ],
   "source": [
    "library.values()"
   ]
  },
  {
   "cell_type": "code",
   "execution_count": 37,
   "id": "241aa53b-27bf-410b-880d-d74de6d97ade",
   "metadata": {},
   "outputs": [],
   "source": [
    "library['Python']= 3"
   ]
  },
  {
   "cell_type": "code",
   "execution_count": 38,
   "id": "82b7b7a6-7f32-40b5-bc1d-0d5fb99fb8ac",
   "metadata": {},
   "outputs": [
    {
     "data": {
      "text/plain": [
       "{'English': 2, 'History': 2, 'Python': 3, 'Hindi': 1, 'Marathi': 2}"
      ]
     },
     "execution_count": 38,
     "metadata": {},
     "output_type": "execute_result"
    }
   ],
   "source": [
    "library"
   ]
  },
  {
   "cell_type": "code",
   "execution_count": 41,
   "id": "90818c41-9bba-436c-b96b-fac700bd2d3a",
   "metadata": {},
   "outputs": [],
   "source": [
    "library['History']= 4"
   ]
  },
  {
   "cell_type": "code",
   "execution_count": 42,
   "id": "e3697bf6-3cb1-4e9d-9b00-addf37e4de05",
   "metadata": {},
   "outputs": [
    {
     "data": {
      "text/plain": [
       "{'English': 2, 'History': 4, 'Python': 3, 'Hindi': 1, 'Marathi': 2}"
      ]
     },
     "execution_count": 42,
     "metadata": {},
     "output_type": "execute_result"
    }
   ],
   "source": [
    "library"
   ]
  },
  {
   "cell_type": "code",
   "execution_count": 43,
   "id": "832b34f1-cefd-4d09-9c46-b58dc2fad37d",
   "metadata": {},
   "outputs": [],
   "source": [
    "library['English']= 10"
   ]
  },
  {
   "cell_type": "code",
   "execution_count": 44,
   "id": "eda71daa-3e88-4d09-8eb5-c2c33cc00708",
   "metadata": {},
   "outputs": [],
   "source": [
    "library['Marathi']= 5"
   ]
  },
  {
   "cell_type": "code",
   "execution_count": 45,
   "id": "233df440-70c5-416c-883e-f4ebf69740f8",
   "metadata": {},
   "outputs": [
    {
     "data": {
      "text/plain": [
       "{'English': 10, 'History': 4, 'Python': 3, 'Hindi': 1, 'Marathi': 5}"
      ]
     },
     "execution_count": 45,
     "metadata": {},
     "output_type": "execute_result"
    }
   ],
   "source": [
    "library"
   ]
  },
  {
   "cell_type": "markdown",
   "id": "36d421d6-37fc-421b-990d-b65ed49cb488",
   "metadata": {},
   "source": [
    "2.Update the count of a specific book after it is borrowed"
   ]
  },
  {
   "cell_type": "code",
   "execution_count": 46,
   "id": "178513a9-9e8f-4a76-9a99-006db7ba62f0",
   "metadata": {},
   "outputs": [],
   "source": [
    "library['English']-= 3"
   ]
  },
  {
   "cell_type": "code",
   "execution_count": 47,
   "id": "6df7c932-d8eb-44da-87d4-4286f3e12f8c",
   "metadata": {},
   "outputs": [
    {
     "data": {
      "text/plain": [
       "{'English': 7, 'History': 4, 'Python': 3, 'Hindi': 1, 'Marathi': 5}"
      ]
     },
     "execution_count": 47,
     "metadata": {},
     "output_type": "execute_result"
    }
   ],
   "source": [
    "library"
   ]
  },
  {
   "cell_type": "code",
   "execution_count": 48,
   "id": "dbbf50a9-7c56-4560-9812-1c5cbd622dc0",
   "metadata": {},
   "outputs": [],
   "source": [
    "library['History']-= 2"
   ]
  },
  {
   "cell_type": "code",
   "execution_count": 49,
   "id": "ef5cc098-c4b8-4b94-aa45-f25761cfaa11",
   "metadata": {},
   "outputs": [],
   "source": [
    "library['Marathi']-= 1"
   ]
  },
  {
   "cell_type": "code",
   "execution_count": 50,
   "id": "5f42f618-5836-454a-a11a-e78c9cd4397e",
   "metadata": {},
   "outputs": [
    {
     "data": {
      "text/plain": [
       "{'English': 7, 'History': 2, 'Python': 3, 'Hindi': 1, 'Marathi': 4}"
      ]
     },
     "execution_count": 50,
     "metadata": {},
     "output_type": "execute_result"
    }
   ],
   "source": [
    "library"
   ]
  },
  {
   "cell_type": "markdown",
   "id": "2ff78ac0-766b-4393-a413-bce03c736e4b",
   "metadata": {},
   "source": [
    "3.Add a new book to the dictionary and print the updated dictionary"
   ]
  },
  {
   "cell_type": "code",
   "execution_count": 51,
   "id": "fc562527-6a0a-485b-81a7-e87c902cea9e",
   "metadata": {},
   "outputs": [],
   "source": [
    "library['Art']= 6"
   ]
  },
  {
   "cell_type": "code",
   "execution_count": 54,
   "id": "57313376-253b-4ca4-9e50-24933c504293",
   "metadata": {},
   "outputs": [],
   "source": [
    "library['Maths']= 10"
   ]
  },
  {
   "cell_type": "code",
   "execution_count": 55,
   "id": "25108ed0-57d9-4876-bc59-92b4b44a2229",
   "metadata": {},
   "outputs": [
    {
     "data": {
      "text/plain": [
       "{'English': 7,\n",
       " 'History': 2,\n",
       " 'Python': 3,\n",
       " 'Hindi': 1,\n",
       " 'Marathi': 4,\n",
       " 'Art': 6,\n",
       " 'Maths': 10}"
      ]
     },
     "execution_count": 55,
     "metadata": {},
     "output_type": "execute_result"
    }
   ],
   "source": [
    "library"
   ]
  },
  {
   "cell_type": "markdown",
   "id": "4c502fc6-5699-4e9a-88c3-666c440aa12f",
   "metadata": {},
   "source": [
    "4.Write code to merge two dictionaries"
   ]
  },
  {
   "cell_type": "code",
   "execution_count": 62,
   "id": "3a5692a2-87f4-4433-9086-4694df278dd9",
   "metadata": {},
   "outputs": [],
   "source": [
    "D1 ={'a':1, 'b':2}"
   ]
  },
  {
   "cell_type": "code",
   "execution_count": 63,
   "id": "896f90e4-d252-417b-90d6-0da473b16bfa",
   "metadata": {},
   "outputs": [
    {
     "data": {
      "text/plain": [
       "{'a': 1, 'b': 2}"
      ]
     },
     "execution_count": 63,
     "metadata": {},
     "output_type": "execute_result"
    }
   ],
   "source": [
    "D1"
   ]
  },
  {
   "cell_type": "code",
   "execution_count": 65,
   "id": "af6cf5e2-6cae-4503-a580-54974962d063",
   "metadata": {},
   "outputs": [],
   "source": [
    "D2 ={'c':3, 'd':4}"
   ]
  },
  {
   "cell_type": "code",
   "execution_count": 66,
   "id": "86ebbbaa-917f-412f-be1a-f43c930fd5e9",
   "metadata": {},
   "outputs": [
    {
     "data": {
      "text/plain": [
       "{'c': 3, 'd': 4}"
      ]
     },
     "execution_count": 66,
     "metadata": {},
     "output_type": "execute_result"
    }
   ],
   "source": [
    "D2"
   ]
  },
  {
   "cell_type": "code",
   "execution_count": 71,
   "id": "40baba94-1a99-46eb-bcc7-8c55dd7097e6",
   "metadata": {},
   "outputs": [],
   "source": [
    "D1.update(D2)"
   ]
  },
  {
   "cell_type": "code",
   "execution_count": 72,
   "id": "7ae19d80-b72a-4758-a1be-e17fba805bab",
   "metadata": {},
   "outputs": [
    {
     "data": {
      "text/plain": [
       "{'a': 1, 'b': 2, 'c': 3, 'd': 4}"
      ]
     },
     "execution_count": 72,
     "metadata": {},
     "output_type": "execute_result"
    }
   ],
   "source": [
    "D1"
   ]
  }
 ],
 "metadata": {
  "kernelspec": {
   "display_name": "Python 3 (ipykernel)",
   "language": "python",
   "name": "python3"
  },
  "language_info": {
   "codemirror_mode": {
    "name": "ipython",
    "version": 3
   },
   "file_extension": ".py",
   "mimetype": "text/x-python",
   "name": "python",
   "nbconvert_exporter": "python",
   "pygments_lexer": "ipython3",
   "version": "3.12.7"
  }
 },
 "nbformat": 4,
 "nbformat_minor": 5
}
