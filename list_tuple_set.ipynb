{
 "cells": [
  {
   "cell_type": "markdown",
   "id": "aedc1d4d-0d63-4c87-a519-47e5f1256b2b",
   "metadata": {},
   "source": [
    "# Working with List"
   ]
  },
  {
   "cell_type": "markdown",
   "id": "da351d06-cf08-4881-a618-f84e0d5c78c4",
   "metadata": {},
   "source": [
    "1. Create a list of integers"
   ]
  },
  {
   "cell_type": "code",
   "execution_count": 1,
   "id": "c26f40d8-ae6a-4249-b24d-8fc83f4377fe",
   "metadata": {},
   "outputs": [],
   "source": [
    "A = [2,3,4,5,6]"
   ]
  },
  {
   "cell_type": "code",
   "execution_count": 2,
   "id": "c056b862-b14f-44f4-be8e-e61d8b28a7a2",
   "metadata": {},
   "outputs": [
    {
     "data": {
      "text/plain": [
       "[2, 3, 4, 5, 6]"
      ]
     },
     "execution_count": 2,
     "metadata": {},
     "output_type": "execute_result"
    }
   ],
   "source": [
    "A"
   ]
  },
  {
   "cell_type": "markdown",
   "id": "b71a62a9-8cfb-4b4a-9810-9d34bb2a98ee",
   "metadata": {},
   "source": [
    "2. Append a new number"
   ]
  },
  {
   "cell_type": "code",
   "execution_count": 3,
   "id": "f6aca17d-e5b9-4a49-925d-7066892df802",
   "metadata": {},
   "outputs": [],
   "source": [
    "A.append(8)"
   ]
  },
  {
   "cell_type": "code",
   "execution_count": 4,
   "id": "2c52a839-bf5b-4870-b170-c537a081305c",
   "metadata": {},
   "outputs": [
    {
     "data": {
      "text/plain": [
       "[2, 3, 4, 5, 6, 8]"
      ]
     },
     "execution_count": 4,
     "metadata": {},
     "output_type": "execute_result"
    }
   ],
   "source": [
    "A"
   ]
  },
  {
   "cell_type": "markdown",
   "id": "89884875-84d9-4675-a9e2-0a52cd0bac92",
   "metadata": {},
   "source": [
    "3. Remove duplicates and print the final list"
   ]
  },
  {
   "cell_type": "code",
   "execution_count": 5,
   "id": "6759c8b3-d347-442b-9a42-e80ba7b3a583",
   "metadata": {},
   "outputs": [],
   "source": [
    "l =[1,2,2,3,4,4,5,5,5,6]"
   ]
  },
  {
   "cell_type": "code",
   "execution_count": 6,
   "id": "c71c5bbc-fccf-4a48-a734-374b01802037",
   "metadata": {},
   "outputs": [
    {
     "data": {
      "text/plain": [
       "[1, 2, 2, 3, 4, 4, 5, 5, 5, 6]"
      ]
     },
     "execution_count": 6,
     "metadata": {},
     "output_type": "execute_result"
    }
   ],
   "source": [
    "l"
   ]
  },
  {
   "cell_type": "code",
   "execution_count": 7,
   "id": "79162879-d0e9-4b4f-b79c-ca86f833d121",
   "metadata": {},
   "outputs": [],
   "source": [
    "l.remove(2)"
   ]
  },
  {
   "cell_type": "code",
   "execution_count": 8,
   "id": "e8df4278-b46e-451a-b9f8-1812b8028709",
   "metadata": {},
   "outputs": [
    {
     "data": {
      "text/plain": [
       "[1, 2, 3, 4, 4, 5, 5, 5, 6]"
      ]
     },
     "execution_count": 8,
     "metadata": {},
     "output_type": "execute_result"
    }
   ],
   "source": [
    "l"
   ]
  },
  {
   "cell_type": "code",
   "execution_count": 9,
   "id": "1cd8b2ea-b74f-400f-8389-8fe6ceb4d28e",
   "metadata": {},
   "outputs": [],
   "source": [
    "l.remove(4)"
   ]
  },
  {
   "cell_type": "code",
   "execution_count": 10,
   "id": "fb0c1892-37e7-47b6-a602-744a877f5065",
   "metadata": {},
   "outputs": [],
   "source": [
    "l.remove(5)"
   ]
  },
  {
   "cell_type": "code",
   "execution_count": 12,
   "id": "6d97dcd9-e96c-49e8-97a5-a25ed3947d36",
   "metadata": {},
   "outputs": [],
   "source": [
    "l.remove(5)"
   ]
  },
  {
   "cell_type": "code",
   "execution_count": 13,
   "id": "23d5f799-54d3-45b1-b240-a23aa879925e",
   "metadata": {},
   "outputs": [
    {
     "data": {
      "text/plain": [
       "[1, 2, 3, 4, 5, 6]"
      ]
     },
     "execution_count": 13,
     "metadata": {},
     "output_type": "execute_result"
    }
   ],
   "source": [
    "l"
   ]
  },
  {
   "cell_type": "markdown",
   "id": "6a30d532-85b6-43bf-b61b-9668eaaec3f1",
   "metadata": {},
   "source": [
    "# Tuple Manipulation"
   ]
  },
  {
   "cell_type": "markdown",
   "id": "1a12d7da-9244-49f4-8198-68dcd94560e3",
   "metadata": {},
   "source": [
    "1.Define a tuple of 5 colors"
   ]
  },
  {
   "cell_type": "code",
   "execution_count": 14,
   "id": "b299f954-e7b5-489d-af72-9f6b43517917",
   "metadata": {},
   "outputs": [],
   "source": [
    "colors =('Red', 'Black', 'Purple', 'Grey', 'Green')"
   ]
  },
  {
   "cell_type": "code",
   "execution_count": 15,
   "id": "86a79bc2-c513-4cf6-b3fb-f59f8f893e2a",
   "metadata": {},
   "outputs": [
    {
     "data": {
      "text/plain": [
       "('Red', 'Black', 'Purple', 'Grey', 'Green')"
      ]
     },
     "execution_count": 15,
     "metadata": {},
     "output_type": "execute_result"
    }
   ],
   "source": [
    "colors"
   ]
  },
  {
   "cell_type": "markdown",
   "id": "508d350b-65e5-48cc-92a0-6a4ed16d9f63",
   "metadata": {},
   "source": [
    "2.Try to add a new color to the tuple (observe and explain why it fails)"
   ]
  },
  {
   "cell_type": "code",
   "execution_count": 19,
   "id": "3e83fc9b-fef7-4531-8f30-678fe8c8a85a",
   "metadata": {},
   "outputs": [
    {
     "ename": "AttributeError",
     "evalue": "'str' object has no attribute 'append'",
     "output_type": "error",
     "traceback": [
      "\u001b[1;31m---------------------------------------------------------------------------\u001b[0m",
      "\u001b[1;31mAttributeError\u001b[0m                            Traceback (most recent call last)",
      "Cell \u001b[1;32mIn[19], line 1\u001b[0m\n\u001b[1;32m----> 1\u001b[0m colors\u001b[38;5;241m.\u001b[39mappend(\u001b[38;5;124m'\u001b[39m\u001b[38;5;124mPink\u001b[39m\u001b[38;5;124m'\u001b[39m)\n",
      "\u001b[1;31mAttributeError\u001b[0m: 'str' object has no attribute 'append'"
     ]
    }
   ],
   "source": [
    "colors.append('Pink')  # it fails because tuple is immutable"
   ]
  },
  {
   "cell_type": "markdown",
   "id": "8bdc95fd-7279-42a2-82be-b553301d0583",
   "metadata": {},
   "source": [
    "3.Convert the tuple to a list, add the color and convert it back to a tuple"
   ]
  },
  {
   "cell_type": "code",
   "execution_count": 40,
   "id": "71bb29f7-b85c-4987-8e43-081cadc71dce",
   "metadata": {},
   "outputs": [],
   "source": [
    "colors=list(colors)"
   ]
  },
  {
   "cell_type": "code",
   "execution_count": 45,
   "id": "10920d80-7b63-4e66-a55a-9f45f103bbb3",
   "metadata": {},
   "outputs": [
    {
     "data": {
      "text/plain": [
       "['Red', 'Black', 'Purple', 'Grey', 'Green']"
      ]
     },
     "execution_count": 45,
     "metadata": {},
     "output_type": "execute_result"
    }
   ],
   "source": [
    "colors"
   ]
  },
  {
   "cell_type": "code",
   "execution_count": 47,
   "id": "f3aa3beb-4e55-4458-94ad-1b0240bab0ab",
   "metadata": {},
   "outputs": [],
   "source": [
    "colors.append('White')"
   ]
  },
  {
   "cell_type": "code",
   "execution_count": 48,
   "id": "d3cf8d2c-a1ef-45f9-8a4a-1bb1a7e2b3c4",
   "metadata": {},
   "outputs": [
    {
     "data": {
      "text/plain": [
       "['Red', 'Black', 'Purple', 'Grey', 'Green', 'White']"
      ]
     },
     "execution_count": 48,
     "metadata": {},
     "output_type": "execute_result"
    }
   ],
   "source": [
    "colors"
   ]
  },
  {
   "cell_type": "code",
   "execution_count": 49,
   "id": "b09472c7-49f6-4623-9508-dff64387664c",
   "metadata": {},
   "outputs": [],
   "source": [
    "colors=tuple(colors)"
   ]
  },
  {
   "cell_type": "code",
   "execution_count": 50,
   "id": "f9d23010-a131-4701-b47d-ec2e85ca69c6",
   "metadata": {},
   "outputs": [
    {
     "data": {
      "text/plain": [
       "('Red', 'Black', 'Purple', 'Grey', 'Green', 'White')"
      ]
     },
     "execution_count": 50,
     "metadata": {},
     "output_type": "execute_result"
    }
   ],
   "source": [
    "colors"
   ]
  },
  {
   "cell_type": "markdown",
   "id": "9ba9b7b7-a515-4621-be97-ddad63485a87",
   "metadata": {},
   "source": [
    "# set operations"
   ]
  },
  {
   "cell_type": "markdown",
   "id": "dab5544c-a5e6-4541-8db8-700824bce533",
   "metadata": {},
   "source": [
    "1.Create two set of random numbers"
   ]
  },
  {
   "cell_type": "code",
   "execution_count": 51,
   "id": "340a8a8c-b56e-4c7a-a9a7-0f67ddc34000",
   "metadata": {},
   "outputs": [],
   "source": [
    "set_1={2,4,6,8}"
   ]
  },
  {
   "cell_type": "code",
   "execution_count": 52,
   "id": "b86470db-ea91-46e7-a024-98dbf7c7e329",
   "metadata": {},
   "outputs": [],
   "source": [
    "set_2={4,8,3,5}"
   ]
  },
  {
   "cell_type": "code",
   "execution_count": 53,
   "id": "e902e241-6a19-4e8d-9fa6-8ccf7c75242e",
   "metadata": {},
   "outputs": [
    {
     "data": {
      "text/plain": [
       "{2, 4, 6, 8}"
      ]
     },
     "execution_count": 53,
     "metadata": {},
     "output_type": "execute_result"
    }
   ],
   "source": [
    "set_1"
   ]
  },
  {
   "cell_type": "code",
   "execution_count": 54,
   "id": "88f2a063-f59d-45c8-b224-164bb6b342ea",
   "metadata": {},
   "outputs": [
    {
     "data": {
      "text/plain": [
       "{3, 4, 5, 8}"
      ]
     },
     "execution_count": 54,
     "metadata": {},
     "output_type": "execute_result"
    }
   ],
   "source": [
    "set_2"
   ]
  },
  {
   "cell_type": "markdown",
   "id": "d3d72a42-6f7c-4800-ae96-fe20576f439c",
   "metadata": {},
   "source": [
    "2.Find and print their union,intersection and difference"
   ]
  },
  {
   "cell_type": "code",
   "execution_count": 55,
   "id": "51766311-8c12-44c9-932b-affc5fd31d28",
   "metadata": {},
   "outputs": [
    {
     "data": {
      "text/plain": [
       "{4, 8}"
      ]
     },
     "execution_count": 55,
     "metadata": {},
     "output_type": "execute_result"
    }
   ],
   "source": [
    "set_1.intersection(set_2)"
   ]
  },
  {
   "cell_type": "code",
   "execution_count": 56,
   "id": "f98bcbc4-73a5-4c09-aeaa-519e60e89552",
   "metadata": {},
   "outputs": [
    {
     "data": {
      "text/plain": [
       "{2, 3, 4, 5, 6, 8}"
      ]
     },
     "execution_count": 56,
     "metadata": {},
     "output_type": "execute_result"
    }
   ],
   "source": [
    "set_1.union(set_2)"
   ]
  },
  {
   "cell_type": "code",
   "execution_count": 57,
   "id": "a17f7726-1ab0-485f-9821-7c402f868ab5",
   "metadata": {},
   "outputs": [
    {
     "data": {
      "text/plain": [
       "{2, 6}"
      ]
     },
     "execution_count": 57,
     "metadata": {},
     "output_type": "execute_result"
    }
   ],
   "source": [
    "set_1.difference(set_2)"
   ]
  },
  {
   "cell_type": "code",
   "execution_count": 58,
   "id": "94160272-e12c-4124-8517-e38d45348f66",
   "metadata": {},
   "outputs": [
    {
     "data": {
      "text/plain": [
       "{3, 5}"
      ]
     },
     "execution_count": 58,
     "metadata": {},
     "output_type": "execute_result"
    }
   ],
   "source": [
    "set_2.difference(set_1)"
   ]
  },
  {
   "cell_type": "code",
   "execution_count": 59,
   "id": "74748dc5-1a57-4f6e-bef1-60444087f768",
   "metadata": {},
   "outputs": [
    {
     "data": {
      "text/plain": [
       "{2, 3, 4, 5, 6, 8}"
      ]
     },
     "execution_count": 59,
     "metadata": {},
     "output_type": "execute_result"
    }
   ],
   "source": [
    "set_2.union(set_1)"
   ]
  },
  {
   "cell_type": "code",
   "execution_count": 60,
   "id": "23101f38-ab7d-4213-96e4-60495573b199",
   "metadata": {},
   "outputs": [
    {
     "data": {
      "text/plain": [
       "{4, 8}"
      ]
     },
     "execution_count": 60,
     "metadata": {},
     "output_type": "execute_result"
    }
   ],
   "source": [
    "set_2.intersection(set_1)"
   ]
  },
  {
   "cell_type": "markdown",
   "id": "f7751ed8-41ec-421e-a538-6df3416c45de",
   "metadata": {},
   "source": [
    "3.Remove one element from the first set and add a new element"
   ]
  },
  {
   "cell_type": "code",
   "execution_count": 61,
   "id": "330e97a2-09e4-4b97-a9d5-426e1c0ab6fb",
   "metadata": {},
   "outputs": [
    {
     "data": {
      "text/plain": [
       "{2, 4, 6, 8}"
      ]
     },
     "execution_count": 61,
     "metadata": {},
     "output_type": "execute_result"
    }
   ],
   "source": [
    "set_1"
   ]
  },
  {
   "cell_type": "code",
   "execution_count": 62,
   "id": "5a7edaf4-d15b-4711-88d2-56e7f8ca539a",
   "metadata": {},
   "outputs": [],
   "source": [
    "set_1.remove(6)"
   ]
  },
  {
   "cell_type": "code",
   "execution_count": 63,
   "id": "cee99e39-0b83-46e0-88dd-53931d93c26d",
   "metadata": {},
   "outputs": [
    {
     "data": {
      "text/plain": [
       "{2, 4, 8}"
      ]
     },
     "execution_count": 63,
     "metadata": {},
     "output_type": "execute_result"
    }
   ],
   "source": [
    "set_1"
   ]
  },
  {
   "cell_type": "code",
   "execution_count": 82,
   "id": "2466f242-697a-4cf9-9425-314d06827c20",
   "metadata": {},
   "outputs": [],
   "source": [
    "set_1={2,4,6,8}"
   ]
  },
  {
   "cell_type": "code",
   "execution_count": 83,
   "id": "2b3cf4a4-33e2-4053-85e9-7c5ad458d982",
   "metadata": {},
   "outputs": [
    {
     "data": {
      "text/plain": [
       "{2, 4, 6, 8}"
      ]
     },
     "execution_count": 83,
     "metadata": {},
     "output_type": "execute_result"
    }
   ],
   "source": [
    "set_1"
   ]
  },
  {
   "cell_type": "code",
   "execution_count": 84,
   "id": "e43157a6-e701-4c45-85c8-393df0f413e9",
   "metadata": {},
   "outputs": [],
   "source": [
    "set_1.add(9)"
   ]
  },
  {
   "cell_type": "code",
   "execution_count": 85,
   "id": "3ec9ead0-5e82-49ae-a452-7b0d224bc41c",
   "metadata": {},
   "outputs": [
    {
     "data": {
      "text/plain": [
       "{2, 4, 6, 8, 9}"
      ]
     },
     "execution_count": 85,
     "metadata": {},
     "output_type": "execute_result"
    }
   ],
   "source": [
    "set_1"
   ]
  },
  {
   "cell_type": "code",
   "execution_count": null,
   "id": "6b90d7e5-28db-4465-a183-f381fa0c065c",
   "metadata": {},
   "outputs": [],
   "source": []
  }
 ],
 "metadata": {
  "kernelspec": {
   "display_name": "Python 3 (ipykernel)",
   "language": "python",
   "name": "python3"
  },
  "language_info": {
   "codemirror_mode": {
    "name": "ipython",
    "version": 3
   },
   "file_extension": ".py",
   "mimetype": "text/x-python",
   "name": "python",
   "nbconvert_exporter": "python",
   "pygments_lexer": "ipython3",
   "version": "3.12.7"
  }
 },
 "nbformat": 4,
 "nbformat_minor": 5
}
